{
 "cells": [
  {
   "cell_type": "markdown",
   "metadata": {},
   "source": [
    "### Example 0"
   ]
  },
  {
   "cell_type": "markdown",
   "metadata": {},
   "source": [
    "As an illustration for the Tree's class, we want to create the mathematical Tree corresponding to the expression $f(x) = x^2 + x + 1$."
   ]
  },
  {
   "cell_type": "code",
   "execution_count": 24,
   "metadata": {},
   "outputs": [],
   "source": [
    "# Make sure KinePycs is available in PATH\n",
    "import sys, numpy\n",
    "sys.path.append(\"../\")\n",
    "\n",
    "# Importing the `Tree` module\n",
    "from SymbolicRegressor import Tree\n",
    "\n",
    "# Creating a function with one variable `x0`\n",
    "T = Tree.Tree(dimension=1)\n",
    "\n",
    "# Creating the initial node `x0`\n",
    "# f(x0) = x0\n",
    "id0 = T.add_node(value=\"x0\", type=\"var\")\n",
    "\n",
    "# Applying a multiplication on the node `x0` by `x0`\n",
    "# f(x0) = mult(x0,x0) = x0 * x0\n",
    "id1 = T.apply_on_node(node=id0, operation=\"mult\", appending_type=\"var\")\n",
    "\n",
    "# Applying an addition on the node `mult` by x0\n",
    "# f(x0) = plus(mult(x0,x0),x0) = x0 * x0 + x0\n",
    "id2 = T.apply_on_node(node=id1, operation=\"plus\", appending_type=\"var\")\n",
    "\n",
    "# Applying an addition on the node `plus` by c0\n",
    "# f(x0) = plus(plus(mult(x0,x0),x0),c0) = x0 * x0 + x0 + c0\n",
    "T.apply_on_node(node=id2, operation=\"plus\", appending_type=\"cst\")\n",
    "\n",
    "# Generating the string representing the Tree\n",
    "assert T.stringify() == \"plus(plus(mult(x0,x0),x0),c0)\"\n",
    "\n",
    "# Now creating the associated callable function\n",
    "assert callable(T.lambdify())\n",
    "\n",
    "# f(x0, c0) = x0**2 + x0 + c0\n",
    "f = T.lambdify()\n",
    "\n",
    "# Checking that the Tree represents the inferred polynomial\n",
    "fref = lambda x: x**2 + x + 1\n",
    "\n",
    "xarr = numpy.linspace(-1, 1)\n",
    "assert all(fref(xarr) == f(xarr, 1))"
   ]
  }
 ],
 "metadata": {
  "kernelspec": {
   "display_name": "Python 3",
   "language": "python",
   "name": "python3"
  },
  "language_info": {
   "codemirror_mode": {
    "name": "ipython",
    "version": 3
   },
   "file_extension": ".py",
   "mimetype": "text/x-python",
   "name": "python",
   "nbconvert_exporter": "python",
   "pygments_lexer": "ipython3",
   "version": "3.11.7"
  }
 },
 "nbformat": 4,
 "nbformat_minor": 2
}
